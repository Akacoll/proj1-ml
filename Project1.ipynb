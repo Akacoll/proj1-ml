{
 "cells": [
  {
   "cell_type": "markdown",
   "metadata": {},
   "source": [
    "# MC886A/MO444A - Machine Learning - Project 1\n",
    "Fabio Akahoshi Collado\n",
    "\n",
    "Gabriel Akahoshi Collado"
   ]
  },
  {
   "cell_type": "markdown",
   "metadata": {},
   "source": [
    "## Data\n",
    "Inicialmente, vamos extrair os dados e preprocessá-los.\n",
    "Em X_train1 e X_test1 há os dados fornecidos do arquivo cluster.dat.\n",
    "Em X_train2 e X_test2 há embeddings word2vec em português com dense vectors de 50 dimensões. Para fins desta tarefa, limitamos a quantidade de exemplos a 10.000. Assim, o formato do dataset é (10000, 50). Os embeddings foram baixados do site http://nilc.icmc.usp.br/nilc/index.php/repositorio-de-word-embeddings-do-nilc\n"
   ]
  },
  {
   "cell_type": "code",
   "execution_count": 1,
   "metadata": {},
   "outputs": [
    {
     "name": "stdout",
     "output_type": "stream",
     "text": [
      "Formato do Primeiro dataset = (573, 2)\n",
      "Formato do Segundo dataset = (10000, 50)\n"
     ]
    }
   ],
   "source": [
    "import numpy as np\n",
    "import random\n",
    "from sklearn import preprocessing, metrics\n",
    "from sklearn.model_selection import train_test_split\n",
    "from sklearn.cluster import KMeans\n",
    "import matplotlib.pyplot as plt\n",
    "\n",
    "filename1 = './cluster.dat'\n",
    "filename2 = './cbow_s50_simple.dat'\n",
    "\n",
    "dados1 = np.loadtxt(filename1)\n",
    "dados2 = np.loadtxt(filename2)\n",
    "\n",
    "dados1 = preprocessing.StandardScaler().fit(dados1).transform(dados1)\n",
    "dados2 = preprocessing.StandardScaler().fit(dados2).transform(dados2)\n",
    "\n",
    "X_train1, X_test1 = train_test_split(dados1, test_size=0.1, shuffle = True)\n",
    "X_train2, X_test2 = train_test_split(dados2, test_size=0.1, shuffle = True)\n",
    "\n",
    "print('Formato do Primeiro dataset = {}'.format(dados1.shape))\n",
    "print('Formato do Segundo dataset = {}'.format(dados2.shape))"
   ]
  },
  {
   "cell_type": "markdown",
   "metadata": {},
   "source": [
    "## PART I - Clustering Methods "
   ]
  },
  {
   "cell_type": "markdown",
   "metadata": {},
   "source": [
    "Antes de iniciarmos a construção do algoritmo do KMeans, analisamos a estrutura (formato, entrada e saída) da implementação do Scikit Learn. Como faremos a comparação posteriormente, o paralelelismo ajudará. \n",
    "\n",
    "A implementação do Scikit Learn cria um objeto com K clusters que pode ser treinado com o método fit, passando os dados em formato matricial como parâmetro, e pode prever a saída com a função predict, passando uma lista de entrada."
   ]
  },
  {
   "cell_type": "code",
   "execution_count": 5,
   "metadata": {},
   "outputs": [
    {
     "name": "stdout",
     "output_type": "stream",
     "text": [
      "Score X_train_calinski =  420.7999635418138\n",
      "Score X_test_calinski =  42.92176698969475\n",
      "Score X_train_calinski =  475.9163800448346\n",
      "Score X_test_calinski =  50.40309330051019\n",
      "Wall time: 18.7 s\n"
     ]
    },
    {
     "data": {
      "text/plain": [
       "(0.07537297527305167, 50.40309330051019)"
      ]
     },
     "execution_count": 5,
     "metadata": {},
     "output_type": "execute_result"
    }
   ],
   "source": [
    "%%time\n",
    "epochs = 10\n",
    "\n",
    "def atribuir_centroids(n_exemplos, X, K, cluster_centers_):\n",
    "    assert cluster_centers_.shape[1] == X.shape[1]\n",
    "    indice_do_centroid = np.zeros(n_exemplos)\n",
    "    for i in range(n_exemplos):\n",
    "        distancia = -1\n",
    "        for j in range(K):\n",
    "            d2 = np.linalg.norm(cluster_centers_[j] - X[i])\n",
    "            if d2 < distancia or distancia == -1:\n",
    "                distancia = d2\n",
    "                indice_do_centroid[i] = j\n",
    "    return indice_do_centroid\n",
    "\n",
    "def encontrar_cluster_centers(n_exemplos, n_features, X, K, indice_do_centroid):\n",
    "    cluster_centers_ = np.zeros([K, n_features])\n",
    "    for j in range(K):\n",
    "        num = 0\n",
    "        soma = np.zeros(n_features)\n",
    "        for i in range(n_exemplos):\n",
    "            if indice_do_centroid[i] == j:\n",
    "                num = num + 1\n",
    "                soma = soma + X[i]\n",
    "        cluster_centers_[j] = soma / num\n",
    "    return cluster_centers_\n",
    "\n",
    "class MeuKMeans:\n",
    "    def __init__(self, n_clusters):\n",
    "        self.K = n_clusters\n",
    "\n",
    "    def _inicializar_centroids(self, n_exemplos, n_features, X):\n",
    "        self.cluster_centers_ = []\n",
    "        for i in random.sample(range(n_exemplos), self.K):\n",
    "            self.cluster_centers_.append(X[i])\n",
    "        self.cluster_centers_ = np.array(self.cluster_centers_)\n",
    "\n",
    "    def fit(self, X):\n",
    "        [n_exemplos, n_features] = X.shape\n",
    "        self._inicializar_centroids(n_exemplos, n_features, X)\n",
    "        for i in range(epochs):\n",
    "            self.indice_do_centroid = atribuir_centroids(n_exemplos, X, self.K, self.cluster_centers_)\n",
    "            self.cluster_centers_ = encontrar_cluster_centers(n_exemplos, n_features, X, self.K, self.indice_do_centroid)\n",
    "\n",
    "    def predict(self, X):\n",
    "        [n_exemplos, n_features] = X.shape\n",
    "        return atribuir_centroids(n_exemplos, X, self.K, self.cluster_centers_)\n",
    "    \n",
    "\n",
    "\n",
    "def train_clusterer(Clusterer_Class, K, X_train, n_init = 3):\n",
    "    score_train = 0\n",
    "    clusterer = Clusterer_Class(K)\n",
    "    for i in range(n_init):\n",
    "        clusterer.fit(X_train)\n",
    "        predicao = clusterer.predict(X_train)\n",
    "        score_train_silhouette = max(score_train, metrics.silhouette_score(X_train, predicao))\n",
    "        score_train_calinski = max(score_train, metrics.calinski_harabasz_score(X_train, predicao))\n",
    "        \n",
    "    print('Score X_train_calinski = ', score_train_calinski)\n",
    "    return clusterer, score_train_silhouette, score_train_calinski\n",
    "\n",
    "def evaluate_clusterer(clusterer, X_test):\n",
    "    predicao = clusterer.predict(X_test)\n",
    "    score_test_silhouette = metrics.silhouette_score(X_test, predicao)\n",
    "    score_test_calinski = metrics.calinski_harabasz_score(X_test, predicao)\n",
    "    print('Score X_test_calinski = ', score_test_calinski)\n",
    "    return score_test_silhouette, score_test_calinski\n",
    "\n",
    "\n",
    "clusterer, score_train_silhouette, score_train_calinski = train_clusterer(MeuKMeans, 3, X_train2)\n",
    "evaluate_clusterer(clusterer, X_test2)\n",
    "\n",
    "clusterer, score_train_silhouette, score_train_calinski = train_clusterer(KMeans, 3, X_train2)\n",
    "evaluate_clusterer(clusterer, X_test2)"
   ]
  },
  {
   "cell_type": "code",
   "execution_count": null,
   "metadata": {},
   "outputs": [],
   "source": [
    "visualizer = KElbowVisualizer(KMeans, k=(4,12))\n",
    "visualizer.fit(X_train2)        # Fit the data to the visualizer\n",
    "visualizer.show()        # Finalize and render the figure\n"
   ]
  },
  {
   "cell_type": "code",
   "execution_count": 6,
   "metadata": {},
   "outputs": [
    {
     "name": "stdout",
     "output_type": "stream",
     "text": [
      "Score X_train_calinski =  384.6519850173019\n",
      "Score X_train_calinski =  481.86785852373924\n",
      "Score X_train_calinski =  387.4670320224445\n",
      "Score X_train_calinski =  481.8647677298938\n",
      "Score X_train_calinski =  457.13560934925994\n",
      "Score X_train_calinski =  426.3818068893377\n",
      "Score X_train_calinski =  423.55700484630444\n",
      "Score X_train_calinski =  460.06573727371375\n",
      "Score X_train_calinski =  456.9082017360149\n",
      "Score X_train_calinski =  334.13309586357764\n",
      "Score X_train_calinski =  418.4235718758058\n",
      "Score X_train_calinski =  426.6529181490186\n",
      "Score X_train_calinski =  441.7172900253901\n",
      "Score X_train_calinski =  457.1369486019285\n",
      "Score X_train_calinski =  370.3662981629539\n",
      "Score X_train_calinski =  435.8421619349184\n",
      "Score X_train_calinski =  440.54093168449106\n",
      "Score X_train_calinski =  439.38267633387346\n",
      "Score X_train_calinski =  457.27039511339433\n",
      "Score X_train_calinski =  367.86855818023304\n"
     ]
    }
   ],
   "source": [
    "score_list = []\n",
    "for K in range(20):\n",
    "    _, _, score_train = train_clusterer(MeuKMeans, 3, X_train2)\n",
    "    score_list.append(score_train)\n"
   ]
  },
  {
   "cell_type": "code",
   "execution_count": 7,
   "metadata": {},
   "outputs": [
    {
     "data": {
      "image/png": "[encoded data removed]",
      "text/plain": [
       "<Figure size 432x288 with 1 Axes>"
      ]
     },
     "metadata": {
      "needs_background": "light"
     },
     "output_type": "display_data"
    }
   ],
   "source": [
    "plt.plot(score_list)\n",
    "plt.ylabel('Silhouette Coefficient')\n",
    "plt.ylabel('Number of Centroids')\n",
    "plt.show()"
   ]
  },
  {
   "cell_type": "code",
   "execution_count": null,
   "metadata": {
    "scrolled": true
   },
   "outputs": [],
   "source": [
    "%%time\n",
    "class Hierarquical:\n",
    "    \n",
    "    def __init__(self, n_clusters):\n",
    "        self.K = n_clusters\n",
    "        self.n_cluster_order = 0\n",
    "        \n",
    "    def _criar_matrizes(self, X, n_exemplos, n_features):\n",
    "        self.matriz_distancia = np.zeros([n_exemplos, n_exemplos-1])\n",
    "        self.indice_do_centroid = np.zeros([n_exemplos])\n",
    "        self.cluster_centers_ = np.zeros([self.K, n_features])\n",
    "        \n",
    "        for i in range(1, n_exemplos):\n",
    "            for j in range(i):\n",
    "                self.matriz_distancia[i][j] = np.linalg.norm(X[i] - X[j])\n",
    "    \n",
    "    def _juntar(self):\n",
    "        matriz = self.matriz_distancia\n",
    "        i, j = np.where(matriz==np.min(matriz[np.nonzero(matriz)]))\n",
    "        self.matriz_distancia[i[0]][j[0]] = 0\n",
    "        self.n_cluster_order = self.n_cluster_order + 1\n",
    "        n_cluster = self.n_cluster_order\n",
    "        \n",
    "        if self.indice_do_centroid[i[0]] != 0:\n",
    "            self.indice_do_centroid[self.indice_do_centroid == self.indice_do_centroid[i[0]]] = n_cluster\n",
    "        if self.indice_do_centroid[j[0]] != 0:\n",
    "            self.indice_do_centroid[self.indice_do_centroid == self.indice_do_centroid[j[0]]] = n_cluster\n",
    "        self.indice_do_centroid[i[0]] = n_cluster\n",
    "        self.indice_do_centroid[j[0]] = n_cluster\n",
    "        \n",
    "        if np.min(self.indice_do_centroid) == 0: return True\n",
    "        if len(np.unique(self.indice_do_centroid)) <= self.K: return False\n",
    "        return True\n",
    "    \n",
    "    def fit(self, X):\n",
    "        [n_exemplos, n_features] = X.shape\n",
    "        self._criar_matrizes(X, n_exemplos, n_features)\n",
    "        while self._juntar():\n",
    "            pass\n",
    "        \n",
    "        #Reduzir os índices para o menor valor\n",
    "        j = 0\n",
    "        for i in np.unique(self.indice_do_centroid):\n",
    "            self.indice_do_centroid[self.indice_do_centroid == i] = j\n",
    "            j = j + 1\n",
    "        \n",
    "        #Encontrar os centros dos clusters\n",
    "        self.cluster_centers_ = encontrar_cluster_centers(n_exemplos, n_features, X, self.K, self.indice_do_centroid)\n",
    "\n",
    "\n",
    "    def predict(self, X):\n",
    "        [n_exemplos, n_features] = X.shape\n",
    "        return atribuir_centroids(n_exemplos, X, self.K, self.cluster_centers_)\n",
    "\n",
    "#print(kmeans.cluster_centers_)"
   ]
  },
  {
   "cell_type": "code",
   "execution_count": null,
   "metadata": {},
   "outputs": [],
   "source": [
    "import matplotlib.pyplot as plt\n",
    "\n",
    "\n",
    "def plot(X_train, X_test, K, classe_clusterer, titulo):\n",
    "    # Step size of the mesh. Decrease to increase the quality of the VQ.\n",
    "    h = .02     # point in the mesh [x_min, x_max]x[y_min, y_max].\n",
    "\n",
    "    # Plot the decision boundary. For that, we will assign a color to each\n",
    "    x_min, x_max = X_train[:, 0].min() - 1, X_train[:, 0].max() + 1\n",
    "    y_min, y_max = X_train[:, 1].min() - 1, X_train[:, 1].max() + 1\n",
    "    xx, yy = np.meshgrid(np.arange(x_min, x_max, h), np.arange(y_min, y_max, h))\n",
    "    print(xx.shape)\n",
    "\n",
    "    # Obtain labels for each point in mesh. Use last trained model.\n",
    "    clusterer = classe_clusterer(n_clusters=K)\n",
    "    clusterer.fit(X_test)\n",
    "    centroides = clusterer.cluster_centers_\n",
    "    \n",
    "    Y = clusterer.predict(np.c_[xx.ravel(), yy.ravel()])\n",
    "    print(Y.shape)\n",
    "    # Put the result into a color plot\n",
    "    Y = Y.reshape(xx.shape)\n",
    "    plt.figure(1)\n",
    "    plt.clf()\n",
    "    plt.imshow(Y, interpolation=\"nearest\",\n",
    "               extent=(xx.min(), xx.max(), yy.min(), yy.max()),\n",
    "               cmap=plt.cm.Paired, aspect=\"auto\", origin=\"lower\")\n",
    "\n",
    "    plt.plot(X_train[:, 0], X_train[:, 1], 'k.', markersize=2)\n",
    "\n",
    "    plt.scatter(centroides[:, 0], centroides[:, 1], marker=\"x\", s=169, linewidths=3,\n",
    "                color=\"w\", zorder=10)\n",
    "    plt.title(titulo)\n",
    "    plt.xlim(x_min, x_max)\n",
    "    plt.ylim(y_min, y_max)\n",
    "    plt.xticks(())\n",
    "    plt.yticks(())\n",
    "    plt.show()"
   ]
  },
  {
   "cell_type": "code",
   "execution_count": null,
   "metadata": {},
   "outputs": [],
   "source": [
    "X_test2min = np.array([x[:2] for x in X_test2])\n",
    "X_test2min.shape\n",
    "X_train2min = np.array([x[:2] for x in X_train2])"
   ]
  },
  {
   "cell_type": "code",
   "execution_count": null,
   "metadata": {},
   "outputs": [],
   "source": [
    "[1,2,3][:2]"
   ]
  },
  {
   "cell_type": "code",
   "execution_count": null,
   "metadata": {},
   "outputs": [],
   "source": [
    "plot(X_train1, X_test1, 3, Hierarquical, 'Hierarquical')\n",
    "plot(X_train2min, X_test2min, 3, kMeans, 'kMeans')"
   ]
  }
 ],
 "metadata": {
  "kernelspec": {
   "display_name": "Python 3",
   "language": "python",
   "name": "python3"
  },
  "language_info": {
   "codemirror_mode": {
    "name": "ipython",
    "version": 3
   },
   "file_extension": ".py",
   "mimetype": "text/x-python",
   "name": "python",
   "nbconvert_exporter": "python",
   "pygments_lexer": "ipython3",
   "version": "3.6.9"
  }
 },
 "nbformat": 4,
 "nbformat_minor": 4
}
